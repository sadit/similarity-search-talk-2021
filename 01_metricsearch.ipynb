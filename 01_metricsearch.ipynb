{
 "cells": [
  {
   "cell_type": "markdown",
   "metadata": {
    "slideshow": {
     "slide_type": "slide"
    }
   },
   "source": [
    "# Similarity search\n",
    "Eric S. Téllez <eric.tellez@infotec.mx>\n",
    "\n",
    "CONACYT-INFOTEC"
   ]
  },
  {
   "cell_type": "markdown",
   "metadata": {
    "slideshow": {
     "slide_type": "slide"
    }
   },
   "source": [
    "# Similarity search\n",
    "\n",
    "- Lookup a large collection for **similar objects** to a given **query**\n",
    "- It is a general framework for searching in data collections\n",
    "  - The core idea is to represent the collection in a metric space\n",
    "  - Each object in a dataset is a valid object in the metric space\n",
    "  - There exists a distance function $d$ that captures the similarity notion (defined among any two valid pairs of objects)\n",
    " "
   ]
  },
  {
   "cell_type": "markdown",
   "metadata": {
    "slideshow": {
     "slide_type": "slide"
    }
   },
   "source": [
    "## The metric space model\n",
    "\n",
    "Useful whenever data lacks a linear or natural order, but there is a notion of similarity.\n",
    "\n",
    "- Text\n",
    "- Images\n",
    "- Cloud points\n",
    "\n",
    "Vector spaces, strings, sets, graphs, collections, etc.\n"
   ]
  },
  {
   "cell_type": "markdown",
   "metadata": {
    "slideshow": {
     "slide_type": "slide"
    }
   },
   "source": [
    "# Searching problem\n",
    "\n",
    "Given a metric space $(U, d)$ and a database $S \\subseteq U$, create a data structure on $S$ to solve efficiently queries $q \\in U$.\n",
    "\n",
    "- Range queries: given the query object $q$ and the radius $r$, find those items in the dataset $S$ such that $\\{u \\mid d(q, u) \\leq r, u \\in S\\}$\n",
    "- $k$ nearest neighbor queries: retrieve the $k$ nearest items in $S$ to $q$, i.e., $knn(q, S) = \\{ u \\mid d(q, u) \\leq r^*, u \\in S\\}$ where $r^*$ is the distance to the $k$-th nearest item to $q$ in $S$, $|knn(q, S)| = k$ and ties are solved randomly. _we will focus in this operation_\n",
    "\n",
    "<img src=\"query.png\">"
   ]
  },
  {
   "cell_type": "markdown",
   "metadata": {
    "slideshow": {
     "slide_type": "slide"
    }
   },
   "source": [
    "The distance function must be a metric, i.e., for any $u,v,w \\in U$:\n",
    "- simmetry: $d(u,v) = d(v, u)$\n",
    "- positivity: $d(u,v) > 0$\n",
    "- equivalence: $d(u, v) = 0 \\iff u \\equiv v$\n",
    "- triangle inequality: $$|d(u, v) - d(v, w)| \\leq d(u, w) \\leq d(u, v) + d(v, w)$$\n",
    "\n",
    "<img src=\"triangle.png\">"
   ]
  },
  {
   "cell_type": "markdown",
   "metadata": {
    "slideshow": {
     "slide_type": "slide"
    }
   },
   "source": [
    "### Pros\n",
    "- Well known mathematical framework\n",
    "- Many approaches to model complex data extract features or represent some kind of relations, i.e., often create vectors, sequences, or graphs.\n",
    "- The metric search paradigm is quite general and powerful, i.e., it has been used to represent a myriad of problems:\n",
    " - Textual and multimedia information retrieval.\n",
    " - Speedup solution of Motion planning (RRT).\n",
    " - Speed up learning algorithms (clustering).\n",
    "- There exist several algorithms and structures (indexes) that are used in practice.\n",
    "\n",
    "### Cons\n",
    "- It requires a metric function $d$ to work\n",
    "- There are many well-known metrics, e.g., https://github.com/JuliaStats/Distances.jl, but a particular problem may need an additional kernel function to work (efficiently/correctly)\n",
    "- It ignores object structure, and so, it cannot speed up based on the structure, e.g., ignores the use of vector coordinates.\n",
    "- Highly sensitive to the internal dimensionality of the dataset"
   ]
  },
  {
   "cell_type": "markdown",
   "metadata": {
    "slideshow": {
     "slide_type": "slide"
    }
   },
   "source": [
    "<img src=\"distances.png\">"
   ]
  },
  {
   "cell_type": "markdown",
   "metadata": {
    "slideshow": {
     "slide_type": "slide"
    }
   },
   "source": [
    "# Traditional approaches\n",
    "\n",
    "- Pivot tables: AESA, LAESA, SSS, BNC\n",
    "- Sparse pivot tables: KVP, **MANNI**, **EPT**\n",
    "- Compact partitioning indexes: LC (and its variants), **PMI**\n",
    "- Others: Trees partitioning datasets like VPT, MVPT, SAT, DiSAT, BKT, metric tree, ball tree, metric file, etc.\n",
    "\n",
    "There is a lot of work under these schemes.\n",
    "\n",
    "<img width=\"400\" src=\"pivot.png\">"
   ]
  },
  {
   "cell_type": "markdown",
   "metadata": {
    "slideshow": {
     "slide_type": "slide"
    }
   },
   "source": [
    "\n",
    "Another issue with traditional approaches comes with large datasets and high dimensions:\n",
    "- Pivot tables use a lot of extra memory q, tending to be quadratic.\n",
    "- Compact partitioning indexes need linear memory but require quadratic construction time.\n",
    "\n",
    "In any case, as the dimension increase, the discarding power of any exact metric index is heavily degraded; the approach is **cursed**.\n"
   ]
  },
  {
   "cell_type": "markdown",
   "metadata": {
    "slideshow": {
     "slide_type": "slide"
    }
   },
   "source": [
    "# My related work on exact similarity search\n",
    "\n",
    "- Tellez E.S., Chavez E., Figueroa K. (2012). Polyphasic Metric Index: Reaching the Practical Limits of Proximity Searching. In: Navarro G., Pestov V. (eds) Similarity Search and Applications. SISAP 2012. Lecture Notes in Computer Science, vol 7404. Springer, Berlin, Heidelberg. \n",
    "- Tellez, E. S., Ruiz, G., & Chavez, E. (2016). Singleton indexes for nearest neighbor search. Information Systems, 60, 50-68.\n",
    "- Ruiz, G., Chavez, E., Ruiz, U., & Tellez, E. S. (2019). Extreme pivots: a pivot selection strategy for faster metric search. Knowledge and Information Systems, 1-34."
   ]
  },
  {
   "cell_type": "markdown",
   "metadata": {},
   "source": [
    "# Resources:\n",
    "\n",
    "- Natix (from my github): <https://github.com/sadit/natix>\n",
    "- SISAP similarity search library: <https://www.sisap.org/metricspaceslibrary.html>\n",
    "- SISAP: <https://www.sisap.org/>"
   ]
  }
 ],
 "metadata": {
  "kernelspec": {
   "display_name": "Julia 1.6.2",
   "language": "julia",
   "name": "julia-1.6"
  },
  "language_info": {
   "file_extension": ".jl",
   "mimetype": "application/julia",
   "name": "julia",
   "version": "1.6.2"
  }
 },
 "nbformat": 4,
 "nbformat_minor": 4
}
